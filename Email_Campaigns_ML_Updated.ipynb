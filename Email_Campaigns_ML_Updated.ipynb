{
 "cells": [
  {
   "cell_type": "markdown",
   "id": "f0ed858b",
   "metadata": {},
   "source": [
    "## Comparity Study of Machine Learning Algorithms for Email Campaigns"
   ]
  },
  {
   "cell_type": "markdown",
   "id": "b039e2b5",
   "metadata": {},
   "source": [
    "##### Importing all the required libraries"
   ]
  },
  {
   "cell_type": "code",
   "execution_count": 62,
   "id": "cb046bdf",
   "metadata": {},
   "outputs": [],
   "source": [
    "import numpy as np\n",
    "import pandas as pd\n",
    "import matplotlib.pyplot as plt\n",
    "import seaborn as sns\n",
    "from sklearn.model_selection import train_test_split\n",
    "from sklearn.linear_model import LogisticRegression\n",
    "from sklearn.tree import DecisionTreeClassifier\n",
    "from sklearn.neighbors import KNeighborsClassifier\n",
    "from sklearn.naive_bayes import GaussianNB\n",
    "from sklearn.pipeline import make_pipeline\n",
    "from sklearn.preprocessing import StandardScaler\n",
    "from sklearn.svm import SVC\n",
    "from sklearn.metrics import classification_report\n",
    "from sklearn.metrics import ConfusionMatrixDisplay\n",
    "from sklearn.metrics import hamming_loss\n",
    "from sklearn.metrics import accuracy_score, precision_score, recall_score, confusion_matrix, precision_recall_curve"
   ]
  },
  {
   "cell_type": "markdown",
   "id": "9a8cb967",
   "metadata": {},
   "source": [
    "##### Reading the sample data csv file, creating the dataset"
   ]
  },
  {
   "cell_type": "code",
   "execution_count": 2,
   "id": "bd6754ed",
   "metadata": {},
   "outputs": [],
   "source": [
    "sales_data=pd.read_csv(\"CE802_Ass_Resit.csv\")"
   ]
  },
  {
   "cell_type": "code",
   "execution_count": 3,
   "id": "094c3175",
   "metadata": {},
   "outputs": [
    {
     "data": {
      "text/html": [
       "<div>\n",
       "<style scoped>\n",
       "    .dataframe tbody tr th:only-of-type {\n",
       "        vertical-align: middle;\n",
       "    }\n",
       "\n",
       "    .dataframe tbody tr th {\n",
       "        vertical-align: top;\n",
       "    }\n",
       "\n",
       "    .dataframe thead th {\n",
       "        text-align: right;\n",
       "    }\n",
       "</style>\n",
       "<table border=\"1\" class=\"dataframe\">\n",
       "  <thead>\n",
       "    <tr style=\"text-align: right;\">\n",
       "      <th></th>\n",
       "      <th>F1</th>\n",
       "      <th>F2</th>\n",
       "      <th>F3</th>\n",
       "      <th>F4</th>\n",
       "      <th>F5</th>\n",
       "      <th>F6</th>\n",
       "      <th>F7</th>\n",
       "      <th>F8</th>\n",
       "      <th>C</th>\n",
       "    </tr>\n",
       "  </thead>\n",
       "  <tbody>\n",
       "    <tr>\n",
       "      <th>0</th>\n",
       "      <td>1</td>\n",
       "      <td>0.73</td>\n",
       "      <td>14</td>\n",
       "      <td>2.49</td>\n",
       "      <td>2</td>\n",
       "      <td>0.89</td>\n",
       "      <td>1</td>\n",
       "      <td>0.60</td>\n",
       "      <td>True</td>\n",
       "    </tr>\n",
       "    <tr>\n",
       "      <th>1</th>\n",
       "      <td>3</td>\n",
       "      <td>0.65</td>\n",
       "      <td>15</td>\n",
       "      <td>1.51</td>\n",
       "      <td>9</td>\n",
       "      <td>0.91</td>\n",
       "      <td>1</td>\n",
       "      <td>0.68</td>\n",
       "      <td>True</td>\n",
       "    </tr>\n",
       "    <tr>\n",
       "      <th>2</th>\n",
       "      <td>-10</td>\n",
       "      <td>0.21</td>\n",
       "      <td>39</td>\n",
       "      <td>1.67</td>\n",
       "      <td>5</td>\n",
       "      <td>0.10</td>\n",
       "      <td>1</td>\n",
       "      <td>0.58</td>\n",
       "      <td>True</td>\n",
       "    </tr>\n",
       "    <tr>\n",
       "      <th>3</th>\n",
       "      <td>-12</td>\n",
       "      <td>1.45</td>\n",
       "      <td>20</td>\n",
       "      <td>-1.54</td>\n",
       "      <td>9</td>\n",
       "      <td>0.70</td>\n",
       "      <td>1</td>\n",
       "      <td>0.27</td>\n",
       "      <td>True</td>\n",
       "    </tr>\n",
       "    <tr>\n",
       "      <th>4</th>\n",
       "      <td>13</td>\n",
       "      <td>0.03</td>\n",
       "      <td>41</td>\n",
       "      <td>2.21</td>\n",
       "      <td>9</td>\n",
       "      <td>0.39</td>\n",
       "      <td>1</td>\n",
       "      <td>1.03</td>\n",
       "      <td>False</td>\n",
       "    </tr>\n",
       "  </tbody>\n",
       "</table>\n",
       "</div>"
      ],
      "text/plain": [
       "   F1    F2  F3    F4  F5    F6  F7    F8      C\n",
       "0   1  0.73  14  2.49   2  0.89   1  0.60   True\n",
       "1   3  0.65  15  1.51   9  0.91   1  0.68   True\n",
       "2 -10  0.21  39  1.67   5  0.10   1  0.58   True\n",
       "3 -12  1.45  20 -1.54   9  0.70   1  0.27   True\n",
       "4  13  0.03  41  2.21   9  0.39   1  1.03  False"
      ]
     },
     "execution_count": 3,
     "metadata": {},
     "output_type": "execute_result"
    }
   ],
   "source": [
    "sales_data.head()   #displays the first 5 rows of the dataset."
   ]
  },
  {
   "cell_type": "code",
   "execution_count": 4,
   "id": "c063f4cb",
   "metadata": {},
   "outputs": [
    {
     "data": {
      "text/html": [
       "<div>\n",
       "<style scoped>\n",
       "    .dataframe tbody tr th:only-of-type {\n",
       "        vertical-align: middle;\n",
       "    }\n",
       "\n",
       "    .dataframe tbody tr th {\n",
       "        vertical-align: top;\n",
       "    }\n",
       "\n",
       "    .dataframe thead th {\n",
       "        text-align: right;\n",
       "    }\n",
       "</style>\n",
       "<table border=\"1\" class=\"dataframe\">\n",
       "  <thead>\n",
       "    <tr style=\"text-align: right;\">\n",
       "      <th></th>\n",
       "      <th>F1</th>\n",
       "      <th>F2</th>\n",
       "      <th>F3</th>\n",
       "      <th>F4</th>\n",
       "      <th>F5</th>\n",
       "      <th>F6</th>\n",
       "      <th>F7</th>\n",
       "      <th>F8</th>\n",
       "      <th>C</th>\n",
       "    </tr>\n",
       "  </thead>\n",
       "  <tbody>\n",
       "    <tr>\n",
       "      <th>995</th>\n",
       "      <td>2</td>\n",
       "      <td>1.51</td>\n",
       "      <td>2</td>\n",
       "      <td>-1.76</td>\n",
       "      <td>10</td>\n",
       "      <td>0.74</td>\n",
       "      <td>1</td>\n",
       "      <td>0.09</td>\n",
       "      <td>True</td>\n",
       "    </tr>\n",
       "    <tr>\n",
       "      <th>996</th>\n",
       "      <td>-13</td>\n",
       "      <td>0.12</td>\n",
       "      <td>10</td>\n",
       "      <td>2.08</td>\n",
       "      <td>0</td>\n",
       "      <td>0.10</td>\n",
       "      <td>1</td>\n",
       "      <td>0.35</td>\n",
       "      <td>True</td>\n",
       "    </tr>\n",
       "    <tr>\n",
       "      <th>997</th>\n",
       "      <td>-10</td>\n",
       "      <td>1.74</td>\n",
       "      <td>4</td>\n",
       "      <td>-2.37</td>\n",
       "      <td>5</td>\n",
       "      <td>0.71</td>\n",
       "      <td>1</td>\n",
       "      <td>0.61</td>\n",
       "      <td>False</td>\n",
       "    </tr>\n",
       "    <tr>\n",
       "      <th>998</th>\n",
       "      <td>-18</td>\n",
       "      <td>1.33</td>\n",
       "      <td>66</td>\n",
       "      <td>2.09</td>\n",
       "      <td>4</td>\n",
       "      <td>0.26</td>\n",
       "      <td>1</td>\n",
       "      <td>0.36</td>\n",
       "      <td>True</td>\n",
       "    </tr>\n",
       "    <tr>\n",
       "      <th>999</th>\n",
       "      <td>15</td>\n",
       "      <td>0.34</td>\n",
       "      <td>23</td>\n",
       "      <td>-1.23</td>\n",
       "      <td>0</td>\n",
       "      <td>0.88</td>\n",
       "      <td>1</td>\n",
       "      <td>0.03</td>\n",
       "      <td>False</td>\n",
       "    </tr>\n",
       "  </tbody>\n",
       "</table>\n",
       "</div>"
      ],
      "text/plain": [
       "     F1    F2  F3    F4  F5    F6  F7    F8      C\n",
       "995   2  1.51   2 -1.76  10  0.74   1  0.09   True\n",
       "996 -13  0.12  10  2.08   0  0.10   1  0.35   True\n",
       "997 -10  1.74   4 -2.37   5  0.71   1  0.61  False\n",
       "998 -18  1.33  66  2.09   4  0.26   1  0.36   True\n",
       "999  15  0.34  23 -1.23   0  0.88   1  0.03  False"
      ]
     },
     "execution_count": 4,
     "metadata": {},
     "output_type": "execute_result"
    }
   ],
   "source": [
    "sales_data.tail()   #displays the last 5 rows of the dataset."
   ]
  },
  {
   "cell_type": "code",
   "execution_count": 5,
   "id": "7a03055f",
   "metadata": {},
   "outputs": [
    {
     "data": {
      "text/plain": [
       "Index(['F1', 'F2', 'F3', 'F4', 'F5', 'F6', 'F7', 'F8', 'C'], dtype='object')"
      ]
     },
     "execution_count": 5,
     "metadata": {},
     "output_type": "execute_result"
    }
   ],
   "source": [
    "sales_data.columns #displays the column names in the dataset."
   ]
  },
  {
   "cell_type": "code",
   "execution_count": 6,
   "id": "3234a3ac",
   "metadata": {},
   "outputs": [
    {
     "name": "stdout",
     "output_type": "stream",
     "text": [
      "<class 'pandas.core.frame.DataFrame'>\n",
      "RangeIndex: 1000 entries, 0 to 999\n",
      "Data columns (total 9 columns):\n",
      " #   Column  Non-Null Count  Dtype  \n",
      "---  ------  --------------  -----  \n",
      " 0   F1      1000 non-null   int64  \n",
      " 1   F2      1000 non-null   float64\n",
      " 2   F3      1000 non-null   int64  \n",
      " 3   F4      1000 non-null   float64\n",
      " 4   F5      1000 non-null   int64  \n",
      " 5   F6      1000 non-null   float64\n",
      " 6   F7      1000 non-null   int64  \n",
      " 7   F8      1000 non-null   float64\n",
      " 8   C       1000 non-null   bool   \n",
      "dtypes: bool(1), float64(4), int64(4)\n",
      "memory usage: 63.6 KB\n"
     ]
    }
   ],
   "source": [
    "sales_data.info() #displays the informations about the dataset."
   ]
  },
  {
   "cell_type": "markdown",
   "id": "83169e2c",
   "metadata": {},
   "source": [
    "##### Preprocessing the data"
   ]
  },
  {
   "cell_type": "markdown",
   "id": "938d8acd",
   "metadata": {},
   "source": [
    "The information about whether the email led to a sale (Conversion) is represented by the column 'C'. The values in this column are in the boolean format (True or False). For ease of the calculations, they are converted into numerical values. That is True=1 and False=0."
   ]
  },
  {
   "cell_type": "code",
   "execution_count": 7,
   "id": "dce16aad",
   "metadata": {},
   "outputs": [],
   "source": [
    "sales_data.loc[(sales_data.C == True), 'C'] = 1  # Converting 'True' into 1.\n",
    "sales_data.loc[(sales_data.C == False), 'C'] = 0 # Conerting 'False' into 0"
   ]
  },
  {
   "cell_type": "code",
   "execution_count": 8,
   "id": "5c3336e4",
   "metadata": {},
   "outputs": [
    {
     "data": {
      "text/html": [
       "<div>\n",
       "<style scoped>\n",
       "    .dataframe tbody tr th:only-of-type {\n",
       "        vertical-align: middle;\n",
       "    }\n",
       "\n",
       "    .dataframe tbody tr th {\n",
       "        vertical-align: top;\n",
       "    }\n",
       "\n",
       "    .dataframe thead th {\n",
       "        text-align: right;\n",
       "    }\n",
       "</style>\n",
       "<table border=\"1\" class=\"dataframe\">\n",
       "  <thead>\n",
       "    <tr style=\"text-align: right;\">\n",
       "      <th></th>\n",
       "      <th>F1</th>\n",
       "      <th>F2</th>\n",
       "      <th>F3</th>\n",
       "      <th>F4</th>\n",
       "      <th>F5</th>\n",
       "      <th>F6</th>\n",
       "      <th>F7</th>\n",
       "      <th>F8</th>\n",
       "      <th>C</th>\n",
       "    </tr>\n",
       "  </thead>\n",
       "  <tbody>\n",
       "    <tr>\n",
       "      <th>0</th>\n",
       "      <td>1</td>\n",
       "      <td>0.73</td>\n",
       "      <td>14</td>\n",
       "      <td>2.49</td>\n",
       "      <td>2</td>\n",
       "      <td>0.89</td>\n",
       "      <td>1</td>\n",
       "      <td>0.60</td>\n",
       "      <td>1</td>\n",
       "    </tr>\n",
       "    <tr>\n",
       "      <th>1</th>\n",
       "      <td>3</td>\n",
       "      <td>0.65</td>\n",
       "      <td>15</td>\n",
       "      <td>1.51</td>\n",
       "      <td>9</td>\n",
       "      <td>0.91</td>\n",
       "      <td>1</td>\n",
       "      <td>0.68</td>\n",
       "      <td>1</td>\n",
       "    </tr>\n",
       "    <tr>\n",
       "      <th>2</th>\n",
       "      <td>-10</td>\n",
       "      <td>0.21</td>\n",
       "      <td>39</td>\n",
       "      <td>1.67</td>\n",
       "      <td>5</td>\n",
       "      <td>0.10</td>\n",
       "      <td>1</td>\n",
       "      <td>0.58</td>\n",
       "      <td>1</td>\n",
       "    </tr>\n",
       "    <tr>\n",
       "      <th>3</th>\n",
       "      <td>-12</td>\n",
       "      <td>1.45</td>\n",
       "      <td>20</td>\n",
       "      <td>-1.54</td>\n",
       "      <td>9</td>\n",
       "      <td>0.70</td>\n",
       "      <td>1</td>\n",
       "      <td>0.27</td>\n",
       "      <td>1</td>\n",
       "    </tr>\n",
       "    <tr>\n",
       "      <th>4</th>\n",
       "      <td>13</td>\n",
       "      <td>0.03</td>\n",
       "      <td>41</td>\n",
       "      <td>2.21</td>\n",
       "      <td>9</td>\n",
       "      <td>0.39</td>\n",
       "      <td>1</td>\n",
       "      <td>1.03</td>\n",
       "      <td>0</td>\n",
       "    </tr>\n",
       "    <tr>\n",
       "      <th>5</th>\n",
       "      <td>-16</td>\n",
       "      <td>0.64</td>\n",
       "      <td>10</td>\n",
       "      <td>0.61</td>\n",
       "      <td>7</td>\n",
       "      <td>0.91</td>\n",
       "      <td>1</td>\n",
       "      <td>0.39</td>\n",
       "      <td>0</td>\n",
       "    </tr>\n",
       "    <tr>\n",
       "      <th>6</th>\n",
       "      <td>8</td>\n",
       "      <td>0.37</td>\n",
       "      <td>16</td>\n",
       "      <td>1.23</td>\n",
       "      <td>10</td>\n",
       "      <td>0.44</td>\n",
       "      <td>1</td>\n",
       "      <td>0.12</td>\n",
       "      <td>1</td>\n",
       "    </tr>\n",
       "    <tr>\n",
       "      <th>7</th>\n",
       "      <td>-19</td>\n",
       "      <td>1.53</td>\n",
       "      <td>16</td>\n",
       "      <td>-1.61</td>\n",
       "      <td>2</td>\n",
       "      <td>0.09</td>\n",
       "      <td>1</td>\n",
       "      <td>0.40</td>\n",
       "      <td>0</td>\n",
       "    </tr>\n",
       "    <tr>\n",
       "      <th>8</th>\n",
       "      <td>15</td>\n",
       "      <td>1.81</td>\n",
       "      <td>9</td>\n",
       "      <td>-3.04</td>\n",
       "      <td>3</td>\n",
       "      <td>0.42</td>\n",
       "      <td>1</td>\n",
       "      <td>0.39</td>\n",
       "      <td>0</td>\n",
       "    </tr>\n",
       "    <tr>\n",
       "      <th>9</th>\n",
       "      <td>0</td>\n",
       "      <td>0.41</td>\n",
       "      <td>12</td>\n",
       "      <td>2.12</td>\n",
       "      <td>14</td>\n",
       "      <td>0.92</td>\n",
       "      <td>1</td>\n",
       "      <td>0.04</td>\n",
       "      <td>0</td>\n",
       "    </tr>\n",
       "  </tbody>\n",
       "</table>\n",
       "</div>"
      ],
      "text/plain": [
       "   F1    F2  F3    F4  F5    F6  F7    F8  C\n",
       "0   1  0.73  14  2.49   2  0.89   1  0.60  1\n",
       "1   3  0.65  15  1.51   9  0.91   1  0.68  1\n",
       "2 -10  0.21  39  1.67   5  0.10   1  0.58  1\n",
       "3 -12  1.45  20 -1.54   9  0.70   1  0.27  1\n",
       "4  13  0.03  41  2.21   9  0.39   1  1.03  0\n",
       "5 -16  0.64  10  0.61   7  0.91   1  0.39  0\n",
       "6   8  0.37  16  1.23  10  0.44   1  0.12  1\n",
       "7 -19  1.53  16 -1.61   2  0.09   1  0.40  0\n",
       "8  15  1.81   9 -3.04   3  0.42   1  0.39  0\n",
       "9   0  0.41  12  2.12  14  0.92   1  0.04  0"
      ]
     },
     "execution_count": 8,
     "metadata": {},
     "output_type": "execute_result"
    }
   ],
   "source": [
    "sales_data.head(10) #Display first 10 rows to check whether the changes are done or not."
   ]
  },
  {
   "cell_type": "markdown",
   "id": "888a3010",
   "metadata": {},
   "source": [
    "Checking for presence of the missing values in the dataset."
   ]
  },
  {
   "cell_type": "code",
   "execution_count": 9,
   "id": "2ac74772",
   "metadata": {},
   "outputs": [
    {
     "data": {
      "text/plain": [
       "F1    0\n",
       "F2    0\n",
       "F3    0\n",
       "F4    0\n",
       "F5    0\n",
       "F6    0\n",
       "F7    0\n",
       "F8    0\n",
       "C     0\n",
       "dtype: int64"
      ]
     },
     "execution_count": 9,
     "metadata": {},
     "output_type": "execute_result"
    }
   ],
   "source": [
    "sales_data.isnull().sum()"
   ]
  },
  {
   "cell_type": "markdown",
   "id": "a0a4c35d",
   "metadata": {},
   "source": [
    "From the above method we can see that there is no missing values in the dataset."
   ]
  },
  {
   "cell_type": "markdown",
   "id": "3b51e872",
   "metadata": {},
   "source": [
    "##### Getting the distrubution of converted sales (sale used the promo code shared in email campaign) and normal sales."
   ]
  },
  {
   "cell_type": "code",
   "execution_count": 10,
   "id": "3efe27bf",
   "metadata": {},
   "outputs": [
    {
     "data": {
      "text/plain": [
       "0    512\n",
       "1    488\n",
       "Name: C, dtype: int64"
      ]
     },
     "execution_count": 10,
     "metadata": {},
     "output_type": "execute_result"
    }
   ],
   "source": [
    "sales_data['C'].value_counts()"
   ]
  },
  {
   "cell_type": "markdown",
   "id": "820bdbab",
   "metadata": {},
   "source": [
    "From the above code we can found that from the dataset, there are 488 sales happened through the email campaigns and 512 are the normal sales."
   ]
  },
  {
   "cell_type": "code",
   "execution_count": 11,
   "id": "8fa2a8e5",
   "metadata": {},
   "outputs": [],
   "source": [
    "bought1=sales_data[sales_data.C == 1]      # created a sample dataset of converted sales for the ease of calculation.\n",
    "notbought1=sales_data[sales_data.C == 0]   # created a sample dataset of non-converted sales for the ease of calculation."
   ]
  },
  {
   "cell_type": "code",
   "execution_count": 12,
   "id": "253af24f",
   "metadata": {},
   "outputs": [
    {
     "data": {
      "text/html": [
       "<div>\n",
       "<style scoped>\n",
       "    .dataframe tbody tr th:only-of-type {\n",
       "        vertical-align: middle;\n",
       "    }\n",
       "\n",
       "    .dataframe tbody tr th {\n",
       "        vertical-align: top;\n",
       "    }\n",
       "\n",
       "    .dataframe thead th {\n",
       "        text-align: right;\n",
       "    }\n",
       "</style>\n",
       "<table border=\"1\" class=\"dataframe\">\n",
       "  <thead>\n",
       "    <tr style=\"text-align: right;\">\n",
       "      <th></th>\n",
       "      <th>F1</th>\n",
       "      <th>F2</th>\n",
       "      <th>F3</th>\n",
       "      <th>F4</th>\n",
       "      <th>F5</th>\n",
       "      <th>F6</th>\n",
       "      <th>F7</th>\n",
       "      <th>F8</th>\n",
       "      <th>C</th>\n",
       "    </tr>\n",
       "  </thead>\n",
       "  <tbody>\n",
       "    <tr>\n",
       "      <th>0</th>\n",
       "      <td>1</td>\n",
       "      <td>0.73</td>\n",
       "      <td>14</td>\n",
       "      <td>2.49</td>\n",
       "      <td>2</td>\n",
       "      <td>0.89</td>\n",
       "      <td>1</td>\n",
       "      <td>0.60</td>\n",
       "      <td>1</td>\n",
       "    </tr>\n",
       "    <tr>\n",
       "      <th>1</th>\n",
       "      <td>3</td>\n",
       "      <td>0.65</td>\n",
       "      <td>15</td>\n",
       "      <td>1.51</td>\n",
       "      <td>9</td>\n",
       "      <td>0.91</td>\n",
       "      <td>1</td>\n",
       "      <td>0.68</td>\n",
       "      <td>1</td>\n",
       "    </tr>\n",
       "    <tr>\n",
       "      <th>2</th>\n",
       "      <td>-10</td>\n",
       "      <td>0.21</td>\n",
       "      <td>39</td>\n",
       "      <td>1.67</td>\n",
       "      <td>5</td>\n",
       "      <td>0.10</td>\n",
       "      <td>1</td>\n",
       "      <td>0.58</td>\n",
       "      <td>1</td>\n",
       "    </tr>\n",
       "    <tr>\n",
       "      <th>3</th>\n",
       "      <td>-12</td>\n",
       "      <td>1.45</td>\n",
       "      <td>20</td>\n",
       "      <td>-1.54</td>\n",
       "      <td>9</td>\n",
       "      <td>0.70</td>\n",
       "      <td>1</td>\n",
       "      <td>0.27</td>\n",
       "      <td>1</td>\n",
       "    </tr>\n",
       "    <tr>\n",
       "      <th>6</th>\n",
       "      <td>8</td>\n",
       "      <td>0.37</td>\n",
       "      <td>16</td>\n",
       "      <td>1.23</td>\n",
       "      <td>10</td>\n",
       "      <td>0.44</td>\n",
       "      <td>1</td>\n",
       "      <td>0.12</td>\n",
       "      <td>1</td>\n",
       "    </tr>\n",
       "  </tbody>\n",
       "</table>\n",
       "</div>"
      ],
      "text/plain": [
       "   F1    F2  F3    F4  F5    F6  F7    F8  C\n",
       "0   1  0.73  14  2.49   2  0.89   1  0.60  1\n",
       "1   3  0.65  15  1.51   9  0.91   1  0.68  1\n",
       "2 -10  0.21  39  1.67   5  0.10   1  0.58  1\n",
       "3 -12  1.45  20 -1.54   9  0.70   1  0.27  1\n",
       "6   8  0.37  16  1.23  10  0.44   1  0.12  1"
      ]
     },
     "execution_count": 12,
     "metadata": {},
     "output_type": "execute_result"
    }
   ],
   "source": [
    "bought1.head() # Checking whether the changes are done."
   ]
  },
  {
   "cell_type": "code",
   "execution_count": 13,
   "id": "85ccd99b",
   "metadata": {},
   "outputs": [
    {
     "data": {
      "text/html": [
       "<div>\n",
       "<style scoped>\n",
       "    .dataframe tbody tr th:only-of-type {\n",
       "        vertical-align: middle;\n",
       "    }\n",
       "\n",
       "    .dataframe tbody tr th {\n",
       "        vertical-align: top;\n",
       "    }\n",
       "\n",
       "    .dataframe thead th {\n",
       "        text-align: right;\n",
       "    }\n",
       "</style>\n",
       "<table border=\"1\" class=\"dataframe\">\n",
       "  <thead>\n",
       "    <tr style=\"text-align: right;\">\n",
       "      <th></th>\n",
       "      <th>F1</th>\n",
       "      <th>F2</th>\n",
       "      <th>F3</th>\n",
       "      <th>F4</th>\n",
       "      <th>F5</th>\n",
       "      <th>F6</th>\n",
       "      <th>F7</th>\n",
       "      <th>F8</th>\n",
       "      <th>C</th>\n",
       "    </tr>\n",
       "  </thead>\n",
       "  <tbody>\n",
       "    <tr>\n",
       "      <th>4</th>\n",
       "      <td>13</td>\n",
       "      <td>0.03</td>\n",
       "      <td>41</td>\n",
       "      <td>2.21</td>\n",
       "      <td>9</td>\n",
       "      <td>0.39</td>\n",
       "      <td>1</td>\n",
       "      <td>1.03</td>\n",
       "      <td>0</td>\n",
       "    </tr>\n",
       "    <tr>\n",
       "      <th>5</th>\n",
       "      <td>-16</td>\n",
       "      <td>0.64</td>\n",
       "      <td>10</td>\n",
       "      <td>0.61</td>\n",
       "      <td>7</td>\n",
       "      <td>0.91</td>\n",
       "      <td>1</td>\n",
       "      <td>0.39</td>\n",
       "      <td>0</td>\n",
       "    </tr>\n",
       "    <tr>\n",
       "      <th>7</th>\n",
       "      <td>-19</td>\n",
       "      <td>1.53</td>\n",
       "      <td>16</td>\n",
       "      <td>-1.61</td>\n",
       "      <td>2</td>\n",
       "      <td>0.09</td>\n",
       "      <td>1</td>\n",
       "      <td>0.40</td>\n",
       "      <td>0</td>\n",
       "    </tr>\n",
       "    <tr>\n",
       "      <th>8</th>\n",
       "      <td>15</td>\n",
       "      <td>1.81</td>\n",
       "      <td>9</td>\n",
       "      <td>-3.04</td>\n",
       "      <td>3</td>\n",
       "      <td>0.42</td>\n",
       "      <td>1</td>\n",
       "      <td>0.39</td>\n",
       "      <td>0</td>\n",
       "    </tr>\n",
       "    <tr>\n",
       "      <th>9</th>\n",
       "      <td>0</td>\n",
       "      <td>0.41</td>\n",
       "      <td>12</td>\n",
       "      <td>2.12</td>\n",
       "      <td>14</td>\n",
       "      <td>0.92</td>\n",
       "      <td>1</td>\n",
       "      <td>0.04</td>\n",
       "      <td>0</td>\n",
       "    </tr>\n",
       "  </tbody>\n",
       "</table>\n",
       "</div>"
      ],
      "text/plain": [
       "   F1    F2  F3    F4  F5    F6  F7    F8  C\n",
       "4  13  0.03  41  2.21   9  0.39   1  1.03  0\n",
       "5 -16  0.64  10  0.61   7  0.91   1  0.39  0\n",
       "7 -19  1.53  16 -1.61   2  0.09   1  0.40  0\n",
       "8  15  1.81   9 -3.04   3  0.42   1  0.39  0\n",
       "9   0  0.41  12  2.12  14  0.92   1  0.04  0"
      ]
     },
     "execution_count": 13,
     "metadata": {},
     "output_type": "execute_result"
    }
   ],
   "source": [
    "notbought1.head() # Checking whether the changes are done."
   ]
  },
  {
   "cell_type": "code",
   "execution_count": 14,
   "id": "e6f79178",
   "metadata": {},
   "outputs": [
    {
     "name": "stdout",
     "output_type": "stream",
     "text": [
      "(488, 9)\n",
      "(512, 9)\n"
     ]
    }
   ],
   "source": [
    "print(bought1.shape)\n",
    "print(notbought1.shape)  #Getting the rows and columns of the sample datasets."
   ]
  },
  {
   "cell_type": "markdown",
   "id": "824ea466",
   "metadata": {},
   "source": [
    "There are 488 converted sales and 512 non-converted sales. For the ease of further calculations, we have to build a sample dataset which contains the same number of converted and non-converted sales."
   ]
  },
  {
   "cell_type": "markdown",
   "id": "d59a71df",
   "metadata": {},
   "source": [
    "To build the dataset as mentioned above first we have to make the size of both 'bought1' and 'notbought1' equal. For that, we are just fixing the size of the 'notbought1' data set as (488,9) by selecting random data out of 512 rows."
   ]
  },
  {
   "cell_type": "code",
   "execution_count": 15,
   "id": "fe2d7b88",
   "metadata": {},
   "outputs": [],
   "source": [
    "notbought_sample = notbought1.sample(n=488)"
   ]
  },
  {
   "cell_type": "code",
   "execution_count": 16,
   "id": "f95420e6",
   "metadata": {},
   "outputs": [
    {
     "data": {
      "text/html": [
       "<div>\n",
       "<style scoped>\n",
       "    .dataframe tbody tr th:only-of-type {\n",
       "        vertical-align: middle;\n",
       "    }\n",
       "\n",
       "    .dataframe tbody tr th {\n",
       "        vertical-align: top;\n",
       "    }\n",
       "\n",
       "    .dataframe thead th {\n",
       "        text-align: right;\n",
       "    }\n",
       "</style>\n",
       "<table border=\"1\" class=\"dataframe\">\n",
       "  <thead>\n",
       "    <tr style=\"text-align: right;\">\n",
       "      <th></th>\n",
       "      <th>F1</th>\n",
       "      <th>F2</th>\n",
       "      <th>F3</th>\n",
       "      <th>F4</th>\n",
       "      <th>F5</th>\n",
       "      <th>F6</th>\n",
       "      <th>F7</th>\n",
       "      <th>F8</th>\n",
       "      <th>C</th>\n",
       "    </tr>\n",
       "  </thead>\n",
       "  <tbody>\n",
       "    <tr>\n",
       "      <th>854</th>\n",
       "      <td>-4</td>\n",
       "      <td>1.12</td>\n",
       "      <td>23</td>\n",
       "      <td>-1.21</td>\n",
       "      <td>5</td>\n",
       "      <td>0.99</td>\n",
       "      <td>1</td>\n",
       "      <td>0.17</td>\n",
       "      <td>0</td>\n",
       "    </tr>\n",
       "    <tr>\n",
       "      <th>836</th>\n",
       "      <td>3</td>\n",
       "      <td>1.14</td>\n",
       "      <td>51</td>\n",
       "      <td>1.48</td>\n",
       "      <td>11</td>\n",
       "      <td>0.92</td>\n",
       "      <td>1</td>\n",
       "      <td>0.21</td>\n",
       "      <td>0</td>\n",
       "    </tr>\n",
       "    <tr>\n",
       "      <th>529</th>\n",
       "      <td>-19</td>\n",
       "      <td>0.56</td>\n",
       "      <td>3</td>\n",
       "      <td>0.82</td>\n",
       "      <td>15</td>\n",
       "      <td>0.54</td>\n",
       "      <td>1</td>\n",
       "      <td>0.88</td>\n",
       "      <td>0</td>\n",
       "    </tr>\n",
       "    <tr>\n",
       "      <th>410</th>\n",
       "      <td>-5</td>\n",
       "      <td>1.76</td>\n",
       "      <td>10</td>\n",
       "      <td>-2.29</td>\n",
       "      <td>1</td>\n",
       "      <td>0.67</td>\n",
       "      <td>1</td>\n",
       "      <td>0.24</td>\n",
       "      <td>0</td>\n",
       "    </tr>\n",
       "    <tr>\n",
       "      <th>331</th>\n",
       "      <td>20</td>\n",
       "      <td>0.07</td>\n",
       "      <td>7</td>\n",
       "      <td>-1.42</td>\n",
       "      <td>10</td>\n",
       "      <td>0.95</td>\n",
       "      <td>1</td>\n",
       "      <td>0.41</td>\n",
       "      <td>0</td>\n",
       "    </tr>\n",
       "  </tbody>\n",
       "</table>\n",
       "</div>"
      ],
      "text/plain": [
       "     F1    F2  F3    F4  F5    F6  F7    F8  C\n",
       "854  -4  1.12  23 -1.21   5  0.99   1  0.17  0\n",
       "836   3  1.14  51  1.48  11  0.92   1  0.21  0\n",
       "529 -19  0.56   3  0.82  15  0.54   1  0.88  0\n",
       "410  -5  1.76  10 -2.29   1  0.67   1  0.24  0\n",
       "331  20  0.07   7 -1.42  10  0.95   1  0.41  0"
      ]
     },
     "execution_count": 16,
     "metadata": {},
     "output_type": "execute_result"
    }
   ],
   "source": [
    "notbought_sample.head() # Checking whether the changes are done."
   ]
  },
  {
   "cell_type": "code",
   "execution_count": 17,
   "id": "9bd078b0",
   "metadata": {},
   "outputs": [
    {
     "name": "stdout",
     "output_type": "stream",
     "text": [
      "(488, 9)\n"
     ]
    }
   ],
   "source": [
    "print(notbought_sample.shape) #Checking the size of the sample notbought dataset"
   ]
  },
  {
   "cell_type": "markdown",
   "id": "dea1f006",
   "metadata": {},
   "source": [
    "Now we have 'bought1' and 'notbought1' datasets with same size. Now we can cancatenate the 'bought1' and 'notbought_sample' datasets."
   ]
  },
  {
   "cell_type": "code",
   "execution_count": 18,
   "id": "cdca4c1b",
   "metadata": {},
   "outputs": [],
   "source": [
    "new_sales_data=pd.concat([bought1,notbought_sample],axis=0) # We can keep axis=0 because we are adding the datasets row wise."
   ]
  },
  {
   "cell_type": "code",
   "execution_count": 19,
   "id": "912d5c01",
   "metadata": {},
   "outputs": [
    {
     "data": {
      "text/html": [
       "<div>\n",
       "<style scoped>\n",
       "    .dataframe tbody tr th:only-of-type {\n",
       "        vertical-align: middle;\n",
       "    }\n",
       "\n",
       "    .dataframe tbody tr th {\n",
       "        vertical-align: top;\n",
       "    }\n",
       "\n",
       "    .dataframe thead th {\n",
       "        text-align: right;\n",
       "    }\n",
       "</style>\n",
       "<table border=\"1\" class=\"dataframe\">\n",
       "  <thead>\n",
       "    <tr style=\"text-align: right;\">\n",
       "      <th></th>\n",
       "      <th>F1</th>\n",
       "      <th>F2</th>\n",
       "      <th>F3</th>\n",
       "      <th>F4</th>\n",
       "      <th>F5</th>\n",
       "      <th>F6</th>\n",
       "      <th>F7</th>\n",
       "      <th>F8</th>\n",
       "      <th>C</th>\n",
       "    </tr>\n",
       "  </thead>\n",
       "  <tbody>\n",
       "    <tr>\n",
       "      <th>0</th>\n",
       "      <td>1</td>\n",
       "      <td>0.73</td>\n",
       "      <td>14</td>\n",
       "      <td>2.49</td>\n",
       "      <td>2</td>\n",
       "      <td>0.89</td>\n",
       "      <td>1</td>\n",
       "      <td>0.60</td>\n",
       "      <td>1</td>\n",
       "    </tr>\n",
       "    <tr>\n",
       "      <th>1</th>\n",
       "      <td>3</td>\n",
       "      <td>0.65</td>\n",
       "      <td>15</td>\n",
       "      <td>1.51</td>\n",
       "      <td>9</td>\n",
       "      <td>0.91</td>\n",
       "      <td>1</td>\n",
       "      <td>0.68</td>\n",
       "      <td>1</td>\n",
       "    </tr>\n",
       "    <tr>\n",
       "      <th>2</th>\n",
       "      <td>-10</td>\n",
       "      <td>0.21</td>\n",
       "      <td>39</td>\n",
       "      <td>1.67</td>\n",
       "      <td>5</td>\n",
       "      <td>0.10</td>\n",
       "      <td>1</td>\n",
       "      <td>0.58</td>\n",
       "      <td>1</td>\n",
       "    </tr>\n",
       "    <tr>\n",
       "      <th>3</th>\n",
       "      <td>-12</td>\n",
       "      <td>1.45</td>\n",
       "      <td>20</td>\n",
       "      <td>-1.54</td>\n",
       "      <td>9</td>\n",
       "      <td>0.70</td>\n",
       "      <td>1</td>\n",
       "      <td>0.27</td>\n",
       "      <td>1</td>\n",
       "    </tr>\n",
       "    <tr>\n",
       "      <th>6</th>\n",
       "      <td>8</td>\n",
       "      <td>0.37</td>\n",
       "      <td>16</td>\n",
       "      <td>1.23</td>\n",
       "      <td>10</td>\n",
       "      <td>0.44</td>\n",
       "      <td>1</td>\n",
       "      <td>0.12</td>\n",
       "      <td>1</td>\n",
       "    </tr>\n",
       "  </tbody>\n",
       "</table>\n",
       "</div>"
      ],
      "text/plain": [
       "   F1    F2  F3    F4  F5    F6  F7    F8  C\n",
       "0   1  0.73  14  2.49   2  0.89   1  0.60  1\n",
       "1   3  0.65  15  1.51   9  0.91   1  0.68  1\n",
       "2 -10  0.21  39  1.67   5  0.10   1  0.58  1\n",
       "3 -12  1.45  20 -1.54   9  0.70   1  0.27  1\n",
       "6   8  0.37  16  1.23  10  0.44   1  0.12  1"
      ]
     },
     "execution_count": 19,
     "metadata": {},
     "output_type": "execute_result"
    }
   ],
   "source": [
    "new_sales_data.head() # Checking whether the changes are done."
   ]
  },
  {
   "cell_type": "code",
   "execution_count": 20,
   "id": "e90c9236",
   "metadata": {},
   "outputs": [
    {
     "data": {
      "text/html": [
       "<div>\n",
       "<style scoped>\n",
       "    .dataframe tbody tr th:only-of-type {\n",
       "        vertical-align: middle;\n",
       "    }\n",
       "\n",
       "    .dataframe tbody tr th {\n",
       "        vertical-align: top;\n",
       "    }\n",
       "\n",
       "    .dataframe thead th {\n",
       "        text-align: right;\n",
       "    }\n",
       "</style>\n",
       "<table border=\"1\" class=\"dataframe\">\n",
       "  <thead>\n",
       "    <tr style=\"text-align: right;\">\n",
       "      <th></th>\n",
       "      <th>F1</th>\n",
       "      <th>F2</th>\n",
       "      <th>F3</th>\n",
       "      <th>F4</th>\n",
       "      <th>F5</th>\n",
       "      <th>F6</th>\n",
       "      <th>F7</th>\n",
       "      <th>F8</th>\n",
       "      <th>C</th>\n",
       "    </tr>\n",
       "  </thead>\n",
       "  <tbody>\n",
       "    <tr>\n",
       "      <th>23</th>\n",
       "      <td>-9</td>\n",
       "      <td>1.76</td>\n",
       "      <td>10</td>\n",
       "      <td>-2.37</td>\n",
       "      <td>6</td>\n",
       "      <td>0.41</td>\n",
       "      <td>1</td>\n",
       "      <td>0.84</td>\n",
       "      <td>0</td>\n",
       "    </tr>\n",
       "    <tr>\n",
       "      <th>485</th>\n",
       "      <td>18</td>\n",
       "      <td>1.50</td>\n",
       "      <td>2</td>\n",
       "      <td>-2.58</td>\n",
       "      <td>10</td>\n",
       "      <td>0.63</td>\n",
       "      <td>1</td>\n",
       "      <td>0.94</td>\n",
       "      <td>0</td>\n",
       "    </tr>\n",
       "    <tr>\n",
       "      <th>829</th>\n",
       "      <td>11</td>\n",
       "      <td>1.55</td>\n",
       "      <td>20</td>\n",
       "      <td>-2.18</td>\n",
       "      <td>6</td>\n",
       "      <td>0.88</td>\n",
       "      <td>1</td>\n",
       "      <td>0.31</td>\n",
       "      <td>0</td>\n",
       "    </tr>\n",
       "    <tr>\n",
       "      <th>281</th>\n",
       "      <td>3</td>\n",
       "      <td>1.20</td>\n",
       "      <td>31</td>\n",
       "      <td>-1.17</td>\n",
       "      <td>8</td>\n",
       "      <td>0.37</td>\n",
       "      <td>1</td>\n",
       "      <td>0.07</td>\n",
       "      <td>0</td>\n",
       "    </tr>\n",
       "    <tr>\n",
       "      <th>904</th>\n",
       "      <td>16</td>\n",
       "      <td>0.88</td>\n",
       "      <td>7</td>\n",
       "      <td>-1.69</td>\n",
       "      <td>5</td>\n",
       "      <td>0.95</td>\n",
       "      <td>1</td>\n",
       "      <td>0.00</td>\n",
       "      <td>0</td>\n",
       "    </tr>\n",
       "  </tbody>\n",
       "</table>\n",
       "</div>"
      ],
      "text/plain": [
       "     F1    F2  F3    F4  F5    F6  F7    F8  C\n",
       "23   -9  1.76  10 -2.37   6  0.41   1  0.84  0\n",
       "485  18  1.50   2 -2.58  10  0.63   1  0.94  0\n",
       "829  11  1.55  20 -2.18   6  0.88   1  0.31  0\n",
       "281   3  1.20  31 -1.17   8  0.37   1  0.07  0\n",
       "904  16  0.88   7 -1.69   5  0.95   1  0.00  0"
      ]
     },
     "execution_count": 20,
     "metadata": {},
     "output_type": "execute_result"
    }
   ],
   "source": [
    "new_sales_data.tail() # Checking whether the changes are done."
   ]
  },
  {
   "cell_type": "code",
   "execution_count": 21,
   "id": "d6892fec",
   "metadata": {},
   "outputs": [
    {
     "name": "stdout",
     "output_type": "stream",
     "text": [
      "(976, 9)\n"
     ]
    }
   ],
   "source": [
    "print(new_sales_data.shape) #Checking the size of the new dataset."
   ]
  },
  {
   "cell_type": "code",
   "execution_count": 22,
   "id": "df57ab15",
   "metadata": {},
   "outputs": [
    {
     "data": {
      "text/plain": [
       "1    488\n",
       "0    488\n",
       "Name: C, dtype: int64"
      ]
     },
     "execution_count": 22,
     "metadata": {},
     "output_type": "execute_result"
    }
   ],
   "source": [
    "new_sales_data['C'].value_counts() #Checking the value distribution of the new dataset."
   ]
  },
  {
   "cell_type": "code",
   "execution_count": 23,
   "id": "de468920",
   "metadata": {},
   "outputs": [
    {
     "name": "stdout",
     "output_type": "stream",
     "text": [
      "<class 'pandas.core.frame.DataFrame'>\n",
      "Int64Index: 976 entries, 0 to 904\n",
      "Data columns (total 9 columns):\n",
      " #   Column  Non-Null Count  Dtype  \n",
      "---  ------  --------------  -----  \n",
      " 0   F1      976 non-null    int64  \n",
      " 1   F2      976 non-null    float64\n",
      " 2   F3      976 non-null    int64  \n",
      " 3   F4      976 non-null    float64\n",
      " 4   F5      976 non-null    int64  \n",
      " 5   F6      976 non-null    float64\n",
      " 6   F7      976 non-null    int64  \n",
      " 7   F8      976 non-null    float64\n",
      " 8   C       976 non-null    object \n",
      "dtypes: float64(4), int64(4), object(1)\n",
      "memory usage: 76.2+ KB\n"
     ]
    }
   ],
   "source": [
    "new_sales_data.info() # Getting the complete info of the new dataset."
   ]
  },
  {
   "cell_type": "markdown",
   "id": "b4ef8d4d",
   "metadata": {},
   "source": [
    "##### Splitting the data into Features and Targets"
   ]
  },
  {
   "cell_type": "code",
   "execution_count": 24,
   "id": "e7f09f0d",
   "metadata": {},
   "outputs": [],
   "source": [
    "X=new_sales_data.drop(columns='C',axis=1)\n",
    "Y=new_sales_data['C']"
   ]
  },
  {
   "cell_type": "code",
   "execution_count": 25,
   "id": "9b89ae79",
   "metadata": {},
   "outputs": [
    {
     "name": "stdout",
     "output_type": "stream",
     "text": [
      "     F1    F2  F3    F4  F5    F6  F7    F8\n",
      "0     1  0.73  14  2.49   2  0.89   1  0.60\n",
      "1     3  0.65  15  1.51   9  0.91   1  0.68\n",
      "2   -10  0.21  39  1.67   5  0.10   1  0.58\n",
      "3   -12  1.45  20 -1.54   9  0.70   1  0.27\n",
      "6     8  0.37  16  1.23  10  0.44   1  0.12\n",
      "..   ..   ...  ..   ...  ..   ...  ..   ...\n",
      "23   -9  1.76  10 -2.37   6  0.41   1  0.84\n",
      "485  18  1.50   2 -2.58  10  0.63   1  0.94\n",
      "829  11  1.55  20 -2.18   6  0.88   1  0.31\n",
      "281   3  1.20  31 -1.17   8  0.37   1  0.07\n",
      "904  16  0.88   7 -1.69   5  0.95   1  0.00\n",
      "\n",
      "[976 rows x 8 columns]\n"
     ]
    }
   ],
   "source": [
    "print(X)"
   ]
  },
  {
   "cell_type": "code",
   "execution_count": 26,
   "id": "58ee2a4f",
   "metadata": {},
   "outputs": [
    {
     "name": "stdout",
     "output_type": "stream",
     "text": [
      "0      1\n",
      "1      1\n",
      "2      1\n",
      "3      1\n",
      "6      1\n",
      "      ..\n",
      "23     0\n",
      "485    0\n",
      "829    0\n",
      "281    0\n",
      "904    0\n",
      "Name: C, Length: 976, dtype: object\n"
     ]
    }
   ],
   "source": [
    "print(Y)"
   ]
  },
  {
   "cell_type": "markdown",
   "id": "8adb538c",
   "metadata": {},
   "source": [
    "##### Train-Test Split"
   ]
  },
  {
   "cell_type": "markdown",
   "id": "0f1c1c6b",
   "metadata": {},
   "source": [
    "Dividing the dataset into train data and test data for the model evaluation."
   ]
  },
  {
   "cell_type": "code",
   "execution_count": 27,
   "id": "1a433d96",
   "metadata": {},
   "outputs": [],
   "source": [
    "X_train, X_test, Y_train, Y_test = train_test_split(X, Y, test_size=0.2, stratify=Y, random_state=2)"
   ]
  },
  {
   "cell_type": "code",
   "execution_count": 28,
   "id": "fbe9b048",
   "metadata": {},
   "outputs": [
    {
     "name": "stdout",
     "output_type": "stream",
     "text": [
      "(976, 8) (196, 8) (780, 8)\n"
     ]
    }
   ],
   "source": [
    "print(X.shape, X_test.shape, X_train.shape) # Displaying size of the X test and train data"
   ]
  },
  {
   "cell_type": "code",
   "execution_count": 29,
   "id": "f7dd56eb",
   "metadata": {},
   "outputs": [
    {
     "name": "stdout",
     "output_type": "stream",
     "text": [
      "(976,) (196,) (780,)\n"
     ]
    }
   ],
   "source": [
    "print(Y.shape, Y_test.shape, Y_train.shape) # Displaying size of the Y test and train data"
   ]
  },
  {
   "cell_type": "markdown",
   "id": "b63b91c6",
   "metadata": {},
   "source": [
    "#### Model Evaluation"
   ]
  },
  {
   "cell_type": "markdown",
   "id": "47d63284",
   "metadata": {},
   "source": [
    "###### 1. Logistic Regression model"
   ]
  },
  {
   "cell_type": "code",
   "execution_count": 30,
   "id": "374880e8",
   "metadata": {},
   "outputs": [],
   "source": [
    "model1=LogisticRegression()"
   ]
  },
  {
   "cell_type": "code",
   "execution_count": 31,
   "id": "5bb81e89",
   "metadata": {},
   "outputs": [
    {
     "data": {
      "text/plain": [
       "LogisticRegression()"
      ]
     },
     "execution_count": 31,
     "metadata": {},
     "output_type": "execute_result"
    }
   ],
   "source": [
    "Y_train=Y_train.astype('int')\n",
    "model1.fit(X_train, Y_train)"
   ]
  },
  {
   "cell_type": "markdown",
   "id": "5f026bfc",
   "metadata": {},
   "source": [
    "Finding accuracy score on traing and test data."
   ]
  },
  {
   "cell_type": "code",
   "execution_count": 32,
   "id": "2712bb53",
   "metadata": {},
   "outputs": [],
   "source": [
    "# Accuracy on Training Data\n",
    "X_train_prediction1=model1.predict(X_train)\n",
    "train_data_accuracy1=accuracy_score(X_train_prediction1,Y_train)"
   ]
  },
  {
   "cell_type": "code",
   "execution_count": 33,
   "id": "f593a995",
   "metadata": {},
   "outputs": [],
   "source": [
    "train_data_precisionscore1=precision_score(X_train_prediction1,Y_train,average=None,zero_division=1)"
   ]
  },
  {
   "cell_type": "code",
   "execution_count": 34,
   "id": "080bc03c",
   "metadata": {},
   "outputs": [
    {
     "name": "stdout",
     "output_type": "stream",
     "text": [
      "Accuracy Score:  0.676923076923077 \n",
      "Precision score:  [0.70512821 0.64871795]\n"
     ]
    }
   ],
   "source": [
    "print('Accuracy Score: ', train_data_accuracy1,'\\nPrecision score: ', train_data_precisionscore1 )"
   ]
  },
  {
   "cell_type": "code",
   "execution_count": 35,
   "id": "d1f4dd19",
   "metadata": {},
   "outputs": [],
   "source": [
    "Y_test=Y_test.astype('int')\n",
    "X_test_prediction1=model1.predict(X_test)\n",
    "test_data_accuracy1=accuracy_score(X_test_prediction1,Y_test)\n",
    "test_data_precisionscore1=precision_score(X_test_prediction1,Y_test,average=None,zero_division=1)"
   ]
  },
  {
   "cell_type": "code",
   "execution_count": 36,
   "id": "7a1e9913",
   "metadata": {},
   "outputs": [
    {
     "name": "stdout",
     "output_type": "stream",
     "text": [
      "Accuracy Score:  0.6785714285714286 \n",
      "Precision score:  [0.74489796 0.6122449 ]\n"
     ]
    }
   ],
   "source": [
    "print('Accuracy Score: ', test_data_accuracy1,'\\nPrecision score: ', test_data_precisionscore1 )"
   ]
  },
  {
   "cell_type": "markdown",
   "id": "aecb32d3",
   "metadata": {},
   "source": [
    "The Accuracy of training data is 0.679 (rounded for 3 decimals) and test data is 0.678 (rounded for 3 decimals). \n",
    "The Precision score of the training data and testing data is 0.705 and 0.745 respectively. That means the prediction of this model is approximately 68 % accurate and will be correct almost 72 % of the time."
   ]
  },
  {
   "cell_type": "markdown",
   "id": "14149b31",
   "metadata": {},
   "source": [
    "##### Confusion Matrix"
   ]
  },
  {
   "cell_type": "code",
   "execution_count": 60,
   "id": "41f20929",
   "metadata": {},
   "outputs": [
    {
     "data": {
      "text/plain": [
       "<sklearn.metrics._plot.confusion_matrix.ConfusionMatrixDisplay at 0x10e422bde80>"
      ]
     },
     "execution_count": 60,
     "metadata": {},
     "output_type": "execute_result"
    },
    {
     "data": {
      "image/png": "[encoded data removed]",
      "text/plain": [
       "<Figure size 432x288 with 2 Axes>"
      ]
     },
     "metadata": {
      "needs_background": "light"
     },
     "output_type": "display_data"
    }
   ],
   "source": [
    "cm1 = confusion_matrix(Y_train, X_train_prediction1, labels=model1.classes_)\n",
    "disp1 = ConfusionMatrixDisplay(confusion_matrix=cm1, display_labels=model1.classes_)\n",
    "disp1.plot()"
   ]
  },
  {
   "cell_type": "markdown",
   "id": "12ff02e9",
   "metadata": {},
   "source": [
    "From the above confusion matrix we can understand that,\n",
    "TP (True Positive) = 275 (Actually these are classified as converted sales and actually they are.)\n",
    "TN (True Negative) = 253 (Actually these are classified as nonconverted sales and actually they are.)\n",
    "FP (False Postive) = 137 (Actually these are classified as converted sales and actually they are not.)\n",
    "FN (False Negative) = 115 (Actually these are classified as nonconverted sales and actually they are.)"
   ]
  },
  {
   "cell_type": "markdown",
   "id": "7c8e667a",
   "metadata": {},
   "source": [
    "##### Hamming Loss"
   ]
  },
  {
   "cell_type": "code",
   "execution_count": 64,
   "id": "ea9431b2",
   "metadata": {},
   "outputs": [
    {
     "name": "stdout",
     "output_type": "stream",
     "text": [
      "0.3230769230769231\n"
     ]
    }
   ],
   "source": [
    "hamming_loss1 = hamming_loss(Y_train, X_train_prediction1) #The hamming loss is the fraction of labels that are incorrectly predicted.\n",
    "print(hamming_loss1)"
   ]
  },
  {
   "cell_type": "markdown",
   "id": "fd167be6",
   "metadata": {},
   "source": [
    "Hamming loss of the Logistic Regression Model is 0.32. That means this model predicted 32 % of labels incorrectly."
   ]
  },
  {
   "cell_type": "markdown",
   "id": "ed64b548",
   "metadata": {},
   "source": [
    "###### 2. Naive Bayes"
   ]
  },
  {
   "cell_type": "code",
   "execution_count": 37,
   "id": "40acee80",
   "metadata": {},
   "outputs": [
    {
     "data": {
      "text/plain": [
       "GaussianNB()"
      ]
     },
     "execution_count": 37,
     "metadata": {},
     "output_type": "execute_result"
    }
   ],
   "source": [
    "model2=GaussianNB()\n",
    "Y_train=Y_train.astype('int')\n",
    "model2.fit(X_train, Y_train)"
   ]
  },
  {
   "cell_type": "markdown",
   "id": "30f1c31b",
   "metadata": {},
   "source": [
    "Finding accuracy score & precision score on traing and test data."
   ]
  },
  {
   "cell_type": "code",
   "execution_count": 38,
   "id": "6ab3f0f9",
   "metadata": {},
   "outputs": [],
   "source": [
    "# Accuracy on Training Data\n",
    "X_train_prediction2=model2.predict(X_train)\n",
    "train_data_accuracy2=accuracy_score(X_train_prediction2,Y_train)\n",
    "train_data_precisionscore2=precision_score(X_train_prediction2,Y_train,average=None,zero_division=1)"
   ]
  },
  {
   "cell_type": "code",
   "execution_count": 39,
   "id": "3b7a10a2",
   "metadata": {},
   "outputs": [
    {
     "name": "stdout",
     "output_type": "stream",
     "text": [
      "Accuracy Score:  0.6448717948717949 \n",
      "Precision score:  [0.58717949 0.7025641 ]\n"
     ]
    }
   ],
   "source": [
    "print('Accuracy Score: ', train_data_accuracy2,'\\nPrecision score: ', train_data_precisionscore2 )"
   ]
  },
  {
   "cell_type": "code",
   "execution_count": 40,
   "id": "475bba0b",
   "metadata": {},
   "outputs": [],
   "source": [
    "Y_test=Y_test.astype('int')\n",
    "X_test_prediction2=model2.predict(X_test)\n",
    "test_data_accuracy2=accuracy_score(X_test_prediction2,Y_test)\n",
    "test_data_precisionscore2=precision_score(X_test_prediction2,Y_test,average=None,zero_division=1)"
   ]
  },
  {
   "cell_type": "code",
   "execution_count": 41,
   "id": "e3564536",
   "metadata": {},
   "outputs": [
    {
     "name": "stdout",
     "output_type": "stream",
     "text": [
      "Accuracy Score:  0.6632653061224489 \n",
      "Precision score:  [0.65306122 0.67346939]\n"
     ]
    }
   ],
   "source": [
    "print('Accuracy Score: ', test_data_accuracy2,'\\nPrecision score: ', test_data_precisionscore2 )"
   ]
  },
  {
   "cell_type": "markdown",
   "id": "e65b5233",
   "metadata": {},
   "source": [
    "The Accuracy of training data is 0.645 (rounded for 3 decimals) and test data is 0.663 (rounded for 3 decimals). The Precision score of the training data and testing data is 0.587 and 0.653 respectively. That means the prediction of this model is approximately 65 % accurate and will be correct almost 63 % of the time."
   ]
  },
  {
   "cell_type": "markdown",
   "id": "6898d0c9",
   "metadata": {},
   "source": [
    "##### Confusion Matrix"
   ]
  },
  {
   "cell_type": "code",
   "execution_count": 59,
   "id": "8283e144",
   "metadata": {},
   "outputs": [
    {
     "data": {
      "text/plain": [
       "<sklearn.metrics._plot.confusion_matrix.ConfusionMatrixDisplay at 0x10e42206d00>"
      ]
     },
     "execution_count": 59,
     "metadata": {},
     "output_type": "execute_result"
    },
    {
     "data": {
      "image/png": "[encoded data removed]",
      "text/plain": [
       "<Figure size 432x288 with 2 Axes>"
      ]
     },
     "metadata": {
      "needs_background": "light"
     },
     "output_type": "display_data"
    }
   ],
   "source": [
    "cm2 = confusion_matrix(Y_train, X_train_prediction2, labels=model2.classes_)\n",
    "disp2 = ConfusionMatrixDisplay(confusion_matrix=cm2, display_labels=model2.classes_)\n",
    "disp2.plot()"
   ]
  },
  {
   "cell_type": "markdown",
   "id": "1ad90906",
   "metadata": {},
   "source": [
    "From the above confusion matrix we can understand that,\n",
    "TP (True Positive) = 229 (Actually these are classified as converted sales and actually they are.)\n",
    "TN (True Negative) = 274 (Actually these are classified as nonconverted sales and actually they are.)\n",
    "FP (False Postive) = 116 (Actually these are classified as converted sales and actually they are not.)\n",
    "FN (False Negative) = 161 (Actually these are classified as nonconverted sales and actually they are.)"
   ]
  },
  {
   "cell_type": "markdown",
   "id": "8f5c50b0",
   "metadata": {},
   "source": [
    "##### Hamming Loss"
   ]
  },
  {
   "cell_type": "code",
   "execution_count": 65,
   "id": "d4bc48d5",
   "metadata": {},
   "outputs": [
    {
     "name": "stdout",
     "output_type": "stream",
     "text": [
      "0.35512820512820514\n"
     ]
    }
   ],
   "source": [
    "hamming_loss2 = hamming_loss(Y_train, X_train_prediction2) #The hamming loss is the fraction of labels that are incorrectly predicted.\n",
    "print(hamming_loss2)"
   ]
  },
  {
   "cell_type": "markdown",
   "id": "2ecdda30",
   "metadata": {},
   "source": [
    "Hamming loss of the Naive Bayes Model is 0.36. That means this model predicted 36 % of labels incorrectly."
   ]
  },
  {
   "cell_type": "markdown",
   "id": "b582e22d",
   "metadata": {},
   "source": [
    "###### 3. KNeighbors Classifier"
   ]
  },
  {
   "cell_type": "code",
   "execution_count": 42,
   "id": "b97d928c",
   "metadata": {},
   "outputs": [
    {
     "data": {
      "text/plain": [
       "KNeighborsClassifier()"
      ]
     },
     "execution_count": 42,
     "metadata": {},
     "output_type": "execute_result"
    }
   ],
   "source": [
    "model3=KNeighborsClassifier(n_neighbors=5)\n",
    "Y_train=Y_train.astype('int')\n",
    "model3.fit(X_train, Y_train)"
   ]
  },
  {
   "cell_type": "markdown",
   "id": "b7055b31",
   "metadata": {},
   "source": [
    "Finding accuracy score & precision score on traing and test data."
   ]
  },
  {
   "cell_type": "code",
   "execution_count": 43,
   "id": "a3403a37",
   "metadata": {},
   "outputs": [],
   "source": [
    "# Accuracy on Training Data\n",
    "X_train_prediction3=model3.predict(X_train)\n",
    "train_data_accuracy3=accuracy_score(X_train_prediction3,Y_train)\n",
    "train_data_precisionscore3=precision_score(X_train_prediction3,Y_train,average=None,zero_division=1)"
   ]
  },
  {
   "cell_type": "code",
   "execution_count": 44,
   "id": "7a0f3641",
   "metadata": {},
   "outputs": [
    {
     "name": "stdout",
     "output_type": "stream",
     "text": [
      "Accuracy Score:  0.7730769230769231 \n",
      "Precision score:  [0.79487179 0.75128205]\n"
     ]
    }
   ],
   "source": [
    "print('Accuracy Score: ', train_data_accuracy3,'\\nPrecision score: ', train_data_precisionscore3 )"
   ]
  },
  {
   "cell_type": "code",
   "execution_count": 45,
   "id": "c426e4d6",
   "metadata": {},
   "outputs": [],
   "source": [
    "Y_test=Y_test.astype('int')\n",
    "X_test_prediction3=model3.predict(X_test)\n",
    "test_data_accuracy3=accuracy_score(X_test_prediction3,Y_test)\n",
    "test_data_precisionscore3=precision_score(X_test_prediction3,Y_test,average=None,zero_division=1)"
   ]
  },
  {
   "cell_type": "code",
   "execution_count": 46,
   "id": "d67574f4",
   "metadata": {},
   "outputs": [
    {
     "name": "stdout",
     "output_type": "stream",
     "text": [
      "Accuracy Score:  0.6326530612244898 \n",
      "Precision score:  [0.70408163 0.56122449]\n"
     ]
    }
   ],
   "source": [
    "print('Accuracy Score: ', test_data_accuracy3,'\\nPrecision score: ', test_data_precisionscore3 )"
   ]
  },
  {
   "cell_type": "markdown",
   "id": "e3247038",
   "metadata": {},
   "source": [
    "The Accuracy of training data is 0.773 (rounded for 3 decimals) and test data is 0.632 (rounded for 3 decimals). The Precision score of the training data and testing data is 0.794 and 0.704 respectively."
   ]
  },
  {
   "cell_type": "markdown",
   "id": "09f9f201",
   "metadata": {},
   "source": [
    "##### Confusion Matrix"
   ]
  },
  {
   "cell_type": "code",
   "execution_count": 48,
   "id": "d733e62b",
   "metadata": {},
   "outputs": [],
   "source": [
    "cm3 = confusion_matrix(Y_train, X_train_prediction3, labels=model3.classes_)\n",
    "disp3 = ConfusionMatrixDisplay(confusion_matrix=cm3, display_labels=model3.classes_)"
   ]
  },
  {
   "cell_type": "code",
   "execution_count": 49,
   "id": "7cb3d556",
   "metadata": {},
   "outputs": [
    {
     "data": {
      "text/plain": [
       "<sklearn.metrics._plot.confusion_matrix.ConfusionMatrixDisplay at 0x10e41efe670>"
      ]
     },
     "execution_count": 49,
     "metadata": {},
     "output_type": "execute_result"
    },
    {
     "data": {
      "image/png": "[encoded data removed]",
      "text/plain": [
       "<Figure size 432x288 with 2 Axes>"
      ]
     },
     "metadata": {
      "needs_background": "light"
     },
     "output_type": "display_data"
    }
   ],
   "source": [
    "disp3.plot()"
   ]
  },
  {
   "cell_type": "markdown",
   "id": "8702575c",
   "metadata": {},
   "source": [
    "From the above confusion matrix we can understand that,\n",
    "TP (True Positive) = 310 (Actually these are classified as converted sales and actually they are.)\n",
    "TN (True Negative) = 293 (Actually these are classified as nonconverted sales and actually they are.)\n",
    "FP (False Postive) = 97 (Actually these are classified as converted sales and actually they are not.)\n",
    "FN (False Negative) = 80 (Actually these are classified as nonconverted sales and actually they are.)"
   ]
  },
  {
   "cell_type": "markdown",
   "id": "313e99ca",
   "metadata": {},
   "source": [
    "##### Hamming Loss"
   ]
  },
  {
   "cell_type": "code",
   "execution_count": 66,
   "id": "d3f39e9c",
   "metadata": {},
   "outputs": [
    {
     "name": "stdout",
     "output_type": "stream",
     "text": [
      "0.22692307692307692\n"
     ]
    }
   ],
   "source": [
    "hamming_loss3 = hamming_loss(Y_train, X_train_prediction3) #The hamming loss is the fraction of labels that are incorrectly predicted.\n",
    "print(hamming_loss3)"
   ]
  },
  {
   "cell_type": "markdown",
   "id": "155d90aa",
   "metadata": {},
   "source": [
    "Hamming loss of the KNeighbors Classifier Model is 0.23. That means this model predicted 23 % of labels incorrectly."
   ]
  },
  {
   "cell_type": "markdown",
   "id": "114a1688",
   "metadata": {},
   "source": [
    "###### 4. Support Vector Classification"
   ]
  },
  {
   "cell_type": "code",
   "execution_count": 50,
   "id": "000ffd7c",
   "metadata": {},
   "outputs": [
    {
     "data": {
      "text/plain": [
       "Pipeline(steps=[('standardscaler', StandardScaler()),\n",
       "                ('svc', SVC(gamma='auto'))])"
      ]
     },
     "execution_count": 50,
     "metadata": {},
     "output_type": "execute_result"
    }
   ],
   "source": [
    "model4=make_pipeline(StandardScaler(), SVC(gamma='auto'))\n",
    "Y_train=Y_train.astype('int')\n",
    "model4.fit(X_train, Y_train)"
   ]
  },
  {
   "cell_type": "markdown",
   "id": "b61ece00",
   "metadata": {},
   "source": [
    "Finding accuracy score & precision score on traing and test data."
   ]
  },
  {
   "cell_type": "code",
   "execution_count": 51,
   "id": "90d456a6",
   "metadata": {},
   "outputs": [],
   "source": [
    "# Accuracy on Training Data\n",
    "X_train_prediction4=model4.predict(X_train)\n",
    "train_data_accuracy4=accuracy_score(X_train_prediction4,Y_train)\n",
    "train_data_precisionscore4=precision_score(X_train_prediction4,Y_train,average=None,zero_division=1)"
   ]
  },
  {
   "cell_type": "code",
   "execution_count": 52,
   "id": "6fc3964f",
   "metadata": {},
   "outputs": [
    {
     "name": "stdout",
     "output_type": "stream",
     "text": [
      "Accuracy Score:  0.8205128205128205 \n",
      "Precision score:  [0.92564103 0.71538462]\n"
     ]
    }
   ],
   "source": [
    "print('Accuracy Score: ', train_data_accuracy4,'\\nPrecision score: ', train_data_precisionscore4)"
   ]
  },
  {
   "cell_type": "code",
   "execution_count": 53,
   "id": "0236c3d7",
   "metadata": {},
   "outputs": [],
   "source": [
    "Y_test=Y_test.astype('int')\n",
    "X_test_prediction4=model4.predict(X_test)\n",
    "test_data_accuracy4=accuracy_score(X_test_prediction4,Y_test)\n",
    "test_data_precisionscore4=precision_score(X_test_prediction4,Y_test,average=None,zero_division=1)"
   ]
  },
  {
   "cell_type": "code",
   "execution_count": 54,
   "id": "2c79c5fe",
   "metadata": {},
   "outputs": [
    {
     "name": "stdout",
     "output_type": "stream",
     "text": [
      "Accuracy Score:  0.7653061224489796 \n",
      "Precision score:  [0.91836735 0.6122449 ]\n"
     ]
    }
   ],
   "source": [
    "print('Accuracy Score: ', test_data_accuracy4,'\\nPrecision score: ', test_data_precisionscore4)"
   ]
  },
  {
   "cell_type": "markdown",
   "id": "7ca1720e",
   "metadata": {},
   "source": [
    "The Accuracy of training data is 0.821 (rounded for 3 decimals) and test data is 0.765 (rounded for 3 decimals). The Precision score of the training data and testing data is 0.926 and 0.918 respectively. That means the prediction of this model is approximately 80 % accurate and will be correct almost 92 % of the time."
   ]
  },
  {
   "cell_type": "markdown",
   "id": "8f0872db",
   "metadata": {},
   "source": [
    "##### Confusion Matrix"
   ]
  },
  {
   "cell_type": "code",
   "execution_count": 57,
   "id": "c2d0d07d",
   "metadata": {},
   "outputs": [],
   "source": [
    "cm4 = confusion_matrix(Y_train, X_train_prediction4, labels=model4.classes_)\n",
    "disp4 = ConfusionMatrixDisplay(confusion_matrix=cm4, display_labels=model4.classes_)"
   ]
  },
  {
   "cell_type": "code",
   "execution_count": 58,
   "id": "a17c3e14",
   "metadata": {},
   "outputs": [
    {
     "data": {
      "text/plain": [
       "<sklearn.metrics._plot.confusion_matrix.ConfusionMatrixDisplay at 0x10e41fddd90>"
      ]
     },
     "execution_count": 58,
     "metadata": {},
     "output_type": "execute_result"
    },
    {
     "data": {
      "image/png": "[encoded data removed]",
      "text/plain": [
       "<Figure size 432x288 with 2 Axes>"
      ]
     },
     "metadata": {
      "needs_background": "light"
     },
     "output_type": "display_data"
    }
   ],
   "source": [
    "disp4.plot()"
   ]
  },
  {
   "cell_type": "markdown",
   "id": "24c13c3a",
   "metadata": {},
   "source": [
    "From the above confusion matrix we can understand that,\n",
    "TP (True Positive) = 361 (Actually these are classified as converted sales and actually they are.)\n",
    "TN (True Negative) = 279 (Actually these are classified as nonconverted sales and actually they are.)\n",
    "FP (False Postive) = 111 (Actually these are classified as converted sales and actually they are not.)\n",
    "FN (False Negative) = 29 (Actually these are classified as nonconverted sales and actually they are.)"
   ]
  },
  {
   "cell_type": "markdown",
   "id": "84df4961",
   "metadata": {},
   "source": [
    "##### Hamming Loss"
   ]
  },
  {
   "cell_type": "code",
   "execution_count": 67,
   "id": "8ced7d9c",
   "metadata": {},
   "outputs": [
    {
     "name": "stdout",
     "output_type": "stream",
     "text": [
      "0.1794871794871795\n"
     ]
    }
   ],
   "source": [
    "hamming_loss4 = hamming_loss(Y_train, X_train_prediction4) #The hamming loss is the fraction of labels that are incorrectly predicted.\n",
    "print(hamming_loss4)"
   ]
  },
  {
   "cell_type": "markdown",
   "id": "8c09016e",
   "metadata": {},
   "source": [
    "Hamming loss of the Support Vector Classifier Model is 0.18. That means this model predicted 18 % of labels incorrectly."
   ]
  },
  {
   "cell_type": "code",
   "execution_count": null,
   "id": "193adc6c",
   "metadata": {},
   "outputs": [],
   "source": []
  }
 ],
 "metadata": {
  "kernelspec": {
   "display_name": "Python 3 (ipykernel)",
   "language": "python",
   "name": "python3"
  },
  "language_info": {
   "codemirror_mode": {
    "name": "ipython",
    "version": 3
   },
   "file_extension": ".py",
   "mimetype": "text/x-python",
   "name": "python",
   "nbconvert_exporter": "python",
   "pygments_lexer": "ipython3",
   "version": "3.9.7"
  }
 },
 "nbformat": 4,
 "nbformat_minor": 5
}
